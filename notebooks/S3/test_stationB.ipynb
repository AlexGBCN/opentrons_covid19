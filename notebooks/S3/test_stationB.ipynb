{
 "cells": [
  {
   "cell_type": "code",
   "execution_count": 18,
   "metadata": {},
   "outputs": [
    {
     "name": "stderr",
     "output_type": "stream",
     "text": [
      "/home/smonzon/.opentrons/deck_calibration.json not found. Loading defaults\n",
      "/home/smonzon/.opentrons/robot_settings.json not found. Loading defaults\n"
     ]
    }
   ],
   "source": [
    "from opentrons import simulate\n",
    "from opentrons.types import Point\n",
    "from opentrons.drivers.rpi_drivers import gpio\n",
    "from opentrons import protocol_api\n",
    "import os\n",
    "import json\n",
    "import math\n",
    "import time\n",
    "\n",
    "ctx = simulate.get_protocol_api('2.1')\n",
    "\n",
    "## Constants\n",
    "NUM_SAMPLES = 48\n",
    "REAGENT_LABWARE = 'nest 12 reservoir plate'\n",
    "MAGPLATE_LABWARE = 'nest deep well plate'\n",
    "WASTE_LABWARE = 'nest 1 reservoir plate'\n",
    "ELUTION_LABWARE = 'opentrons aluminum biorad plate'\n",
    "TIP_TRACK = True\n",
    "\n",
    "## global vars\n",
    "robot = None\n",
    "tip_log = {}\n",
    "tip_log['count'] = {}\n",
    "tip_log['tips'] = {}\n",
    "tip_log['max'] = {}"
   ]
  },
  {
   "cell_type": "code",
   "execution_count": 19,
   "metadata": {},
   "outputs": [
    {
     "name": "stdout",
     "output_type": "stream",
     "text": [
      "P300 8-Channel GEN2 on right mount\n",
      "yes\n"
     ]
    }
   ],
   "source": [
    "tips300 = [\n",
    "        ctx.load_labware(\n",
    "            'opentrons_96_tiprack_300ul', slot, '200µl filter tiprack')\n",
    "        for slot in ['2', '3', '5', '6', '9']\n",
    "    ]\n",
    "tips1000 = [\n",
    "        ctx.load_labware('opentrons_96_filtertiprack_1000ul', slot,\n",
    "                         '1000µl filter tiprack')\n",
    "        for slot in ['8', '4']\n",
    "    ]\n",
    "\n",
    "m300 = ctx.load_instrument('p300_multi_gen2', 'right', tip_racks=tips300)\n",
    "p1000 = ctx.load_instrument('p1000_single_gen2', 'left', tip_racks=tips1000)\n",
    "m300\n",
    "\n",
    "print(str(m300))\n",
    "if \"8-Channel\" in str(m300):\n",
    "    print(\"yes\")"
   ]
  },
  {
   "cell_type": "code",
   "execution_count": 20,
   "metadata": {},
   "outputs": [
    {
     "name": "stdout",
     "output_type": "stream",
     "text": [
      "0\n",
      "hola\n",
      "1\n",
      "paco\n"
     ]
    }
   ],
   "source": [
    "dests = [\"hola\",\"paco\"]\n",
    "\n",
    "for i, m in enumerate(dests):\n",
    "    print(i)\n",
    "    print(m)\n",
    "    "
   ]
  }
 ],
 "metadata": {
  "kernelspec": {
   "display_name": "Python 3",
   "language": "python",
   "name": "python3"
  },
  "language_info": {
   "codemirror_mode": {
    "name": "ipython",
    "version": 3
   },
   "file_extension": ".py",
   "mimetype": "text/x-python",
   "name": "python",
   "nbconvert_exporter": "python",
   "pygments_lexer": "ipython3",
   "version": "3.8.2"
  }
 },
 "nbformat": 4,
 "nbformat_minor": 4
}
