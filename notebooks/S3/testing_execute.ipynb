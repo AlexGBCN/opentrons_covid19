{
 "cells": [
  {
   "cell_type": "code",
   "execution_count": 2,
   "metadata": {},
   "outputs": [
    {
     "name": "stderr",
     "output_type": "stream",
     "text": [
      "Out of bounds move: Y=352.22716536606066 (transformed: 352.81009936072576) not inlimits (-1.1114368785929676, 349.48480354771266) (transformed: (0, 350.05)\n",
      "Out of bounds move: Y=352.22716536606066 (transformed: 352.81009936072576) not inlimits (-1.1114368785929676, 349.48480354771266) (transformed: (0, 350.05)\n",
      "Out of bounds move: Y=352.22716536606066 (transformed: 352.81009936072576) not inlimits (-1.1114368785929676, 349.48480354771266) (transformed: (0, 350.05)\n",
      "Out of bounds move: Y=352.22716536606066 (transformed: 352.81009936072576) not inlimits (-1.1114368785929676, 349.48480354771266) (transformed: (0, 350.05)\n",
      "Out of bounds move: Y=352.22907013540356 (transformed: 352.812) not inlimits (-1.1114368785929676, 349.48480354771266) (transformed: (0, 350.05)\n"
     ]
    },
    {
     "data": {
      "text/plain": [
       "<InstrumentContext: p20_single_v2.0 in RIGHT>"
      ]
     },
     "execution_count": 2,
     "metadata": {},
     "output_type": "execute_result"
    }
   ],
   "source": [
    "from opentrons import protocol_api\n",
    "import opentrons.execute\n",
    "\n",
    "protocol = opentrons.execute.get_protocol_api('2.0')\n",
    "protocol.home()\n",
    "\n",
    "tips20 = [protocol.load_labware('opentrons_96_filtertiprack_20ul',3)]\n",
    "p20 = protocol.load_instrument(\"p20_single_gen2\",\"right\",tip_racks=tips20)\n",
    "\n",
    "mm_rack = protocol.load_labware('opentrons_24_aluminumblock_generic_2ml_screwcap',2,'mastermix rack')\n",
    "tube1 = mm_rack.wells()[0]\n",
    "tube2 = mm_rack.wells()[23]\n",
    "\n",
    "p20.pick_up_tip()\n",
    "p20.aspirate(5,tube1.top(2))\n",
    "p20.aspirate(15,tube1.bottom(2))\n",
    "p20.flow_rate.dispense = 400\n",
    "p20.dispense(20,tube2.top(-1))\n",
    "p20.flow_rate.blow_out = 4000\n",
    "p20.blow_out()\n",
    "#p20.aspirate(5,tube2.top(-1),rate=20)\n",
    "protocol.delay(seconds=7)\n",
    "p20.blow_out()\n",
    "p20.drop_tip()"
   ]
  },
  {
   "cell_type": "code",
   "execution_count": null,
   "metadata": {},
   "outputs": [],
   "source": []
  }
 ],
 "metadata": {
  "kernelspec": {
   "display_name": "Python 3",
   "language": "python",
   "name": "python3"
  },
  "language_info": {
   "codemirror_mode": {
    "name": "ipython",
    "version": 3
   },
   "file_extension": ".py",
   "mimetype": "text/x-python",
   "name": "python",
   "nbconvert_exporter": "python",
   "pygments_lexer": "ipython3",
   "version": "3.7.1"
  }
 },
 "nbformat": 4,
 "nbformat_minor": 2
}
