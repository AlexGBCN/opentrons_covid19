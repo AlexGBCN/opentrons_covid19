{
 "cells": [
  {
   "cell_type": "code",
   "execution_count": 45,
   "metadata": {},
   "outputs": [
    {
     "name": "stderr",
     "output_type": "stream",
     "text": [
      "/home/smonzon/.opentrons/deck_calibration.json not found. Loading defaults\n",
      "/home/smonzon/.opentrons/robot_settings.json not found. Loading defaults\n"
     ]
    }
   ],
   "source": [
    "from opentrons import simulate\n",
    "from opentrons import protocol_api\n",
    "from opentrons.drivers.rpi_drivers import gpio\n",
    "import time\n",
    "import math\n",
    "import json\n",
    "import os\n",
    "\n",
    "ctx = simulate.get_protocol_api('2.1')\n",
    "\n",
    "BEADS_LABWARE = 'opentrons plastic 50 ml tubes'\n",
    "PLATE_LABWARE = 'opentrons deep generic well plate'\n",
    "VOLUME_BEADS = 400\n",
    "\n",
    "BD_LW_DICT = {\n",
    "    'opentrons plastic 50 ml tubes': 'opentrons_6_tuberack_falcon_50ml_conical'\n",
    "}\n",
    "\n",
    "PL_LW_DICT = {\n",
    "    'opentrons deep generic well plate': 'usascientific_96_wellplate_2.4ml_deep',\n",
    "    'nest deep generic well plate': 'usascientific_96_wellplate_2.4ml_deep',\n",
    "    'vwr deep generic well plate': 'usascientific_96_wellplate_2.4ml_deep'\n",
    "}\n",
    "\n",
    "if BEADS_LABWARE not in BD_LW_DICT:\n",
    "        raise Exception('Invalid BF_LABWARE. Must be one of the \\\n",
    "following:\\nopentrons plastic 50ml tubes')\n",
    "\n",
    "# load mastermix labware\n",
    "beads_rack = ctx.load_labware(\n",
    "        BD_LW_DICT[BEADS_LABWARE], '7',\n",
    "        BEADS_LABWARE)\n",
    "\n",
    "# check plate\n",
    "if PLATE_LABWARE not in PL_LW_DICT:\n",
    "        raise Exception('Invalid PLATE_LABWARE. Must be one of the \\\n",
    "following:\\nopentrons deep generic well plate\\nnest deep generic well plate\\nvwr deep generic well plate')\n",
    "\n",
    "# load pcr plate\n",
    "wells_plate = ctx.load_labware(PL_LW_DICT[PLATE_LABWARE], 10,\n",
    "                    'sample elution well plate ')\n"
   ]
  },
  {
   "cell_type": "code",
   "execution_count": 58,
   "metadata": {},
   "outputs": [
    {
     "name": "stdout",
     "output_type": "stream",
     "text": [
      "24\n",
      "1\n",
      "[B1 of opentrons plastic 50 ml tubes on 7]\n",
      "[[A1 of sample elution well plate  on 10, B1 of sample elution well plate  on 10, C1 of sample elution well plate  on 10, D1 of sample elution well plate  on 10, E1 of sample elution well plate  on 10, F1 of sample elution well plate  on 10, G1 of sample elution well plate  on 10, H1 of sample elution well plate  on 10, A2 of sample elution well plate  on 10, B2 of sample elution well plate  on 10, C2 of sample elution well plate  on 10, D2 of sample elution well plate  on 10, E2 of sample elution well plate  on 10, F2 of sample elution well plate  on 10, G2 of sample elution well plate  on 10, H2 of sample elution well plate  on 10, A3 of sample elution well plate  on 10, B3 of sample elution well plate  on 10, C3 of sample elution well plate  on 10, D3 of sample elution well plate  on 10, E3 of sample elution well plate  on 10, F3 of sample elution well plate  on 10, G3 of sample elution well plate  on 10, H3 of sample elution well plate  on 10]]\n"
     ]
    }
   ],
   "source": [
    "beads = beads_rack.wells()[0]\n",
    "\n",
    "\n",
    "NUM_SAMPLES= 24\n",
    "\n",
    "num_tubes = math.ceil(NUM_SAMPLES/24)\n",
    "num_wells = math.ceil(len(wells_plate.wells())/4)\n",
    "\n",
    "ethanol = beads_rack.wells()[1:5][:num_tubes]\n",
    "\n",
    "dest_sets = [\n",
    "        [well\n",
    "         for well in wells_plate.wells()\n",
    "        ][:NUM_SAMPLES][i*num_wells:(i+1)*num_wells]\n",
    "        for i in range(num_tubes)\n",
    "        ]\n",
    "\n",
    "dest_sets\n",
    "number_tubes\n",
    "print(num_wells)\n",
    "print(num_tubes)\n",
    "print(ethanol)\n",
    "print(dest_sets)"
   ]
  }
 ],
 "metadata": {
  "kernelspec": {
   "display_name": "Python 3",
   "language": "python",
   "name": "python3"
  },
  "language_info": {
   "codemirror_mode": {
    "name": "ipython",
    "version": 3
   },
   "file_extension": ".py",
   "mimetype": "text/x-python",
   "name": "python",
   "nbconvert_exporter": "python",
   "pygments_lexer": "ipython3",
   "version": "3.8.2"
  }
 },
 "nbformat": 4,
 "nbformat_minor": 4
}
