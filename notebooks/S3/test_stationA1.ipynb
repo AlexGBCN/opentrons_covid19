{
 "cells": [
  {
   "cell_type": "code",
   "execution_count": 4,
   "metadata": {},
   "outputs": [
    {
     "name": "stderr",
     "output_type": "stream",
     "text": [
      "/home/smonzon/.opentrons/deck_calibration.json not found. Loading defaults\n",
      "/home/smonzon/.opentrons/robot_settings.json not found. Loading defaults\n"
     ]
    }
   ],
   "source": [
    "from opentrons import simulate\n",
    "from opentrons.drivers.rpi_drivers import gpio\n",
    "import time\n",
    "import math\n",
    "\n",
    "ctx = simulate.get_protocol_api('2.1')\n",
    "\n",
    "buffer_rack = ctx.load_labware('opentrons_6_tuberack_falcon_50ml_conical', '10',\n",
    "        'buffer labware')\n",
    "dest_racks = [\n",
    "            ctx.load_labware('opentrons_24_tuberack_generic_2ml_screwcap', slot,\n",
    "                            'Destination tubes labware ' + str(i+1))\n",
    "            for i, slot in enumerate(['4', '1', '5', '2'])\n",
    "    ]"
   ]
  },
  {
   "cell_type": "code",
   "execution_count": 11,
   "metadata": {},
   "outputs": [
    {
     "name": "stdout",
     "output_type": "stream",
     "text": [
      "A1 of buffer labware on 10\n",
      "[A1 of Destination tubes labware 1 on 4, B1 of Destination tubes labware 1 on 4, C1 of Destination tubes labware 1 on 4, D1 of Destination tubes labware 1 on 4, A2 of Destination tubes labware 1 on 4, B2 of Destination tubes labware 1 on 4, C2 of Destination tubes labware 1 on 4, D2 of Destination tubes labware 1 on 4, A3 of Destination tubes labware 1 on 4, B3 of Destination tubes labware 1 on 4, C3 of Destination tubes labware 1 on 4, D3 of Destination tubes labware 1 on 4, A4 of Destination tubes labware 1 on 4, B4 of Destination tubes labware 1 on 4, C4 of Destination tubes labware 1 on 4, D4 of Destination tubes labware 1 on 4, A5 of Destination tubes labware 1 on 4, B5 of Destination tubes labware 1 on 4, C5 of Destination tubes labware 1 on 4, D5 of Destination tubes labware 1 on 4, A6 of Destination tubes labware 1 on 4, B6 of Destination tubes labware 1 on 4, C6 of Destination tubes labware 1 on 4, D6 of Destination tubes labware 1 on 4]\n",
      "B1 of buffer labware on 10\n",
      "[A1 of Destination tubes labware 2 on 1, B1 of Destination tubes labware 2 on 1, C1 of Destination tubes labware 2 on 1, D1 of Destination tubes labware 2 on 1, A2 of Destination tubes labware 2 on 1, B2 of Destination tubes labware 2 on 1, C2 of Destination tubes labware 2 on 1, D2 of Destination tubes labware 2 on 1, A3 of Destination tubes labware 2 on 1, B3 of Destination tubes labware 2 on 1, C3 of Destination tubes labware 2 on 1, D3 of Destination tubes labware 2 on 1, A4 of Destination tubes labware 2 on 1, B4 of Destination tubes labware 2 on 1, C4 of Destination tubes labware 2 on 1, D4 of Destination tubes labware 2 on 1, A5 of Destination tubes labware 2 on 1, B5 of Destination tubes labware 2 on 1, C5 of Destination tubes labware 2 on 1, D5 of Destination tubes labware 2 on 1, A6 of Destination tubes labware 2 on 1, B6 of Destination tubes labware 2 on 1, C6 of Destination tubes labware 2 on 1, D6 of Destination tubes labware 2 on 1]\n",
      "A2 of buffer labware on 10\n",
      "[A1 of Destination tubes labware 3 on 5, B1 of Destination tubes labware 3 on 5, C1 of Destination tubes labware 3 on 5, D1 of Destination tubes labware 3 on 5, A2 of Destination tubes labware 3 on 5, B2 of Destination tubes labware 3 on 5, C2 of Destination tubes labware 3 on 5, D2 of Destination tubes labware 3 on 5, A3 of Destination tubes labware 3 on 5, B3 of Destination tubes labware 3 on 5, C3 of Destination tubes labware 3 on 5, D3 of Destination tubes labware 3 on 5, A4 of Destination tubes labware 3 on 5, B4 of Destination tubes labware 3 on 5, C4 of Destination tubes labware 3 on 5, D4 of Destination tubes labware 3 on 5, A5 of Destination tubes labware 3 on 5, B5 of Destination tubes labware 3 on 5, C5 of Destination tubes labware 3 on 5, D5 of Destination tubes labware 3 on 5, A6 of Destination tubes labware 3 on 5, B6 of Destination tubes labware 3 on 5, C6 of Destination tubes labware 3 on 5, D6 of Destination tubes labware 3 on 5]\n",
      "B2 of buffer labware on 10\n",
      "[A1 of Destination tubes labware 4 on 2, B1 of Destination tubes labware 4 on 2, C1 of Destination tubes labware 4 on 2, D1 of Destination tubes labware 4 on 2, A2 of Destination tubes labware 4 on 2, B2 of Destination tubes labware 4 on 2, C2 of Destination tubes labware 4 on 2, D2 of Destination tubes labware 4 on 2, A3 of Destination tubes labware 4 on 2, B3 of Destination tubes labware 4 on 2, C3 of Destination tubes labware 4 on 2, D3 of Destination tubes labware 4 on 2, A4 of Destination tubes labware 4 on 2, B4 of Destination tubes labware 4 on 2, C4 of Destination tubes labware 4 on 2, D4 of Destination tubes labware 4 on 2, A5 of Destination tubes labware 4 on 2, B5 of Destination tubes labware 4 on 2, C5 of Destination tubes labware 4 on 2, D5 of Destination tubes labware 4 on 2, A6 of Destination tubes labware 4 on 2, B6 of Destination tubes labware 4 on 2, C6 of Destination tubes labware 4 on 2, D6 of Destination tubes labware 4 on 2]\n"
     ]
    }
   ],
   "source": [
    "bf_tubes = buffer_rack.wells()[:4]\n",
    "NUM_SAMPLES = 96\n",
    "\n",
    "number_racks = math.ceil(NUM_SAMPLES/len(dest_racks[0].wells()))\n",
    "\n",
    "dest_sets = [\n",
    "        [tube\n",
    "         for rack in dest_racks\n",
    "         for tube in rack.wells()\n",
    "        ][:NUM_SAMPLES][i*len(dest_racks[0].wells()):(i+1)*len(dest_racks[0].wells())]\n",
    "        for i in range(number_racks)\n",
    "        ]\n",
    "\n",
    "for bf_tube,dest in zip(bf_tubes,dest_sets):\n",
    "    print(bf_tube)\n",
    "    print(dest)"
   ]
  },
  {
   "cell_type": "code",
   "execution_count": 10,
   "metadata": {},
   "outputs": [
    {
     "data": {
      "text/plain": [
       "[[A1 of Destination tubes labware 4 on 2,\n",
       "  B1 of Destination tubes labware 4 on 2,\n",
       "  C1 of Destination tubes labware 4 on 2],\n",
       " [D1 of Destination tubes labware 4 on 2,\n",
       "  A2 of Destination tubes labware 4 on 2,\n",
       "  B2 of Destination tubes labware 4 on 2],\n",
       " [C2 of Destination tubes labware 4 on 2,\n",
       "  D2 of Destination tubes labware 4 on 2,\n",
       "  A3 of Destination tubes labware 4 on 2],\n",
       " [B3 of Destination tubes labware 4 on 2,\n",
       "  C3 of Destination tubes labware 4 on 2,\n",
       "  D3 of Destination tubes labware 4 on 2],\n",
       " [A4 of Destination tubes labware 4 on 2,\n",
       "  B4 of Destination tubes labware 4 on 2,\n",
       "  C4 of Destination tubes labware 4 on 2],\n",
       " [D4 of Destination tubes labware 4 on 2,\n",
       "  A5 of Destination tubes labware 4 on 2,\n",
       "  B5 of Destination tubes labware 4 on 2],\n",
       " [C5 of Destination tubes labware 4 on 2,\n",
       "  D5 of Destination tubes labware 4 on 2,\n",
       "  A6 of Destination tubes labware 4 on 2],\n",
       " [B6 of Destination tubes labware 4 on 2,\n",
       "  C6 of Destination tubes labware 4 on 2,\n",
       "  D6 of Destination tubes labware 4 on 2]]"
      ]
     },
     "execution_count": 10,
     "metadata": {},
     "output_type": "execute_result"
    }
   ],
   "source": [
    "max_trans_per_asp = 3  #230//(VOLUME_MMIX+5)\n",
    "split_ind = [ind for ind in range(0, len(dest), max_trans_per_asp)]\n",
    "dest_sets = [dest[split_ind[i]:split_ind[i+1]]\n",
    "             for i in range(len(split_ind)-1)] + [dest[split_ind[-1]:]]\n",
    "\n",
    "dest_sets"
   ]
  }
 ],
 "metadata": {
  "kernelspec": {
   "display_name": "Python 3",
   "language": "python",
   "name": "python3"
  },
  "language_info": {
   "codemirror_mode": {
    "name": "ipython",
    "version": 3
   },
   "file_extension": ".py",
   "mimetype": "text/x-python",
   "name": "python",
   "nbconvert_exporter": "python",
   "pygments_lexer": "ipython3",
   "version": "3.8.2"
  }
 },
 "nbformat": 4,
 "nbformat_minor": 4
}
