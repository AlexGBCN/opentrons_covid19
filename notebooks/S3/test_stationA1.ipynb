{
 "cells": [
  {
   "cell_type": "code",
   "execution_count": 1,
   "metadata": {},
   "outputs": [
    {
     "name": "stdout",
     "output_type": "stream",
     "text": [
      "Loading json containers...\n",
      "Json container file load complete, listing database\n",
      "Found 0 containers to add. Starting migration...\n",
      "Database migration complete!\n"
     ]
    },
    {
     "name": "stderr",
     "output_type": "stream",
     "text": [
      "/home/smonzon/.opentrons/deck_calibration.json not found. Loading defaults\n",
      "/home/smonzon/.opentrons/robot_settings.json not found. Loading defaults\n",
      "/home/smonzon/.opentrons/deck_calibration.json not found. Loading defaults\n",
      "/home/smonzon/.opentrons/robot_settings.json not found. Loading defaults\n"
     ]
    }
   ],
   "source": [
    "from opentrons import simulate\n",
    "from opentrons.drivers.rpi_drivers import gpio\n",
    "import time\n",
    "import math\n",
    "\n",
    "ctx = simulate.get_protocol_api('2.1')\n",
    "\n",
    "buffer_rack = ctx.load_labware('opentrons_6_tuberack_falcon_50ml_conical', '10',\n",
    "        'buffer labware')\n",
    "dest_racks = [\n",
    "            ctx.load_labware('opentrons_24_tuberack_generic_2ml_screwcap', slot,\n",
    "                            'Destination tubes labware ' + str(i+1))\n",
    "            for i, slot in enumerate(['4', '1', '5', '2'])\n",
    "    ]"
   ]
  },
  {
   "cell_type": "code",
   "execution_count": 100,
   "metadata": {},
   "outputs": [
    {
     "name": "stdout",
     "output_type": "stream",
     "text": [
      "A1 of buffer labware on 10\n",
      "24\n",
      "B1 of buffer labware on 10\n",
      "24\n",
      "A2 of buffer labware on 10\n",
      "1\n"
     ]
    }
   ],
   "source": [
    "bf_tubes = buffer_rack.wells()[:4]\n",
    "NUM_SAMPLES = 49\n",
    "\n",
    "number_racks = math.ceil(NUM_SAMPLES/len(dest_racks[0].wells()))\n",
    "\n",
    "dest_sets = [\n",
    "        [tube\n",
    "         for rack in dest_racks\n",
    "         for tube in rack.wells()\n",
    "        ][:NUM_SAMPLES][i*len(dest_racks[0].wells()):(i+1)*len(dest_racks[0].wells())]\n",
    "        for i in range(number_racks)\n",
    "        ]\n",
    "\n",
    "for bf_tube,dest in zip(bf_tubes,dest_sets):\n",
    "    print(bf_tube)\n",
    "    print(len(dest))"
   ]
  }
 ],
 "metadata": {
  "kernelspec": {
   "display_name": "Python 3",
   "language": "python",
   "name": "python3"
  },
  "language_info": {
   "codemirror_mode": {
    "name": "ipython",
    "version": 3
   },
   "file_extension": ".py",
   "mimetype": "text/x-python",
   "name": "python",
   "nbconvert_exporter": "python",
   "pygments_lexer": "ipython3",
   "version": "3.8.2"
  }
 },
 "nbformat": 4,
 "nbformat_minor": 4
}
